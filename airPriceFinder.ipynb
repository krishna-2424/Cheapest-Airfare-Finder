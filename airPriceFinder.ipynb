{
  "nbformat": 4,
  "nbformat_minor": 0,
  "metadata": {
    "colab": {
      "name": "airPriceFinder.ipynb",
      "provenance": [],
      "collapsed_sections": [],
      "authorship_tag": "ABX9TyN/GHY6tU5bUSa3eMPlGgZH",
      "include_colab_link": true
    },
    "kernelspec": {
      "name": "python3",
      "display_name": "Python 3"
    },
    "language_info": {
      "name": "python"
    }
  },
  "cells": [
    {
      "cell_type": "markdown",
      "metadata": {
        "id": "view-in-github",
        "colab_type": "text"
      },
      "source": [
        "<a href=\"https://colab.research.google.com/github/krishna-2424/Cheapest-Airfare-Finder/blob/main/airPriceFinder.ipynb\" target=\"_parent\"><img src=\"https://colab.research.google.com/assets/colab-badge.svg\" alt=\"Open In Colab\"/></a>"
      ]
    },
    {
      "cell_type": "code",
      "source": [
        "# import libraries\n",
        "from bs4 import BeautifulSoup\n",
        "import pandas as pd\n",
        "import datetime, re, time, itertools, smtplib, ssl\n",
        "from email.mime.text import MIMEText\n",
        "from email.mime.multipart import MIMEMultipart\n",
        "import requests"
      ],
      "metadata": {
        "id": "8J6voZHZGcpe"
      },
      "execution_count": null,
      "outputs": []
    },
    {
      "cell_type": "code",
      "source": [
        "start_date = datetime.datetime(2021,12,24)\n",
        "days_range = 2\n",
        "trip_length, min_length, max_length = 7, 6, 12\n",
        "price_goal = 5000\n",
        "cities = 'YMQ-OSL'"
      ],
      "metadata": {
        "id": "cgxyHhAm-X2c"
      },
      "execution_count": null,
      "outputs": []
    },
    {
      "cell_type": "code",
      "source": [
        "start = pd.date_range(start_date, periods=days_range).to_pydatetime().tolist()\n",
        "end = pd.date_range(start_date + datetime.timedelta(days=trip_length), periods=days_range).to_pydatetime().tolist()\n",
        "\n",
        "#Get all combinations of dates\n",
        "all_dates = list(itertools.product(start,end))"
      ],
      "metadata": {
        "id": "uV4bwk4l-f0x"
      },
      "execution_count": null,
      "outputs": []
    },
    {
      "cell_type": "code",
      "source": [
        "departing=[]\n",
        "returning=[]\n",
        "for i in range(len(all_dates)):\n",
        "    if (([x[1] for x in all_dates][i] - [x[0] for x in all_dates][i]).days > min_length) & \\\n",
        "       (([x[1] for x in all_dates][i] - [x[0] for x in all_dates][i]).days < max_length):\n",
        "            \n",
        "        departing.append(([x[0] for x in all_dates][i]).strftime('%Y-%m-%d'))\n",
        "        returning.append(([x[1] for x in all_dates][i]).strftime('%Y-%m-%d'))\n",
        "    else:\n",
        "        None"
      ],
      "metadata": {
        "id": "1bDNe9iO-m2P"
      },
      "execution_count": null,
      "outputs": []
    },
    {
      "cell_type": "code",
      "source": [
        "#Cleaning dates to make them usable in loop\n",
        "for i in range(len(departing)):\n",
        "    departing[i]=re.sub(' 00:00:00', '', departing[i])\n",
        "    returning[i]=re.sub(' 00:00:00', '', returning[i])"
      ],
      "metadata": {
        "id": "0N2iXIcf-pik"
      },
      "execution_count": null,
      "outputs": []
    },
    {
      "cell_type": "code",
      "source": [
        "headers={\n",
        "    'User-Agent': 'Mozilla/5.0 (Windows NT 10.0; Win64; x64) AppleWebKit/537.36 (KHTML, like Gecko) Chrome/94.0.4606.71 Safari/537.36'\n",
        "}"
      ],
      "metadata": {
        "id": "KOHze3UO--vT"
      },
      "execution_count": null,
      "outputs": []
    },
    {
      "cell_type": "code",
      "source": [
        "trial=[]"
      ],
      "metadata": {
        "id": "g3JmgvIndnie"
      },
      "execution_count": null,
      "outputs": []
    },
    {
      "cell_type": "code",
      "source": [
        "data=[]\n",
        "\n",
        "for i in range(len(departing)):\n",
        "  print(\"*************************************************************************************************\")\n",
        "  url ='https://www.ca.kayak.com/flights/' + cities + '/' + departing[i]+ '/' + returning[i] +'?sort=bestflight_a'\n",
        "  print(url)\n",
        "  page=requests.get(url,headers=headers)\n",
        "  print(page)\n",
        "  time.sleep(15)\n",
        "  soup = BeautifulSoup(page.content, 'html.parser')\n",
        "  # print(soup.contents)\n",
        "\n",
        "  my_table = soup.find_all(\"span\",class_=\"price-text\")\n",
        "  minAirPrice=INT_MAX;\n",
        "  for i in my_table:\n",
        "      print(i.text)\n",
        "  trial=my_table\n",
        "    \n",
        "  try:\n",
        "      data.append(my_table.get_text())\n",
        "      data[i]=int(re.sub('[^0-9]','', data[i]))\n",
        "        \n",
        "      if data[i]<price_goal:\n",
        "            \n",
        "          #Email info\n",
        "          sender = 'airpricefinder@gmail.com'\n",
        "          password = 'airPriceFinder@123'\n",
        "          port = 465\n",
        "          receive = 'airpricefinder@gmail.com'\n",
        "           \n",
        "          #Email content\n",
        "          msg = MIMEMultipart()\n",
        "          msg['From'] = sender\n",
        "          msg['To'] = receive\n",
        "          msg['Subject'] = 'Great deal on tickets found'\n",
        "\n",
        "          body = 'Go here to see the great deal:' + re.sub('https://www.', '', page)\n",
        "          msg.attach(MIMEText(body,'plain'))\n",
        "          text = msg.as_string()\n",
        "\n",
        "          #Sending email\n",
        "          context = ssl.create_default_context()\n",
        "          with smtplib.SMTP_SSL('smtp.gmail.com', port=port, context=context) as server:\n",
        "              server.login(sender, password)\n",
        "              server.sendmail(sender, receive, text)\n",
        "      else:\n",
        "          None                 \n",
        "  except:\n",
        "      data.append('No flights found')\n"
      ],
      "metadata": {
        "colab": {
          "base_uri": "https://localhost:8080/",
          "height": 1000
        },
        "id": "qxGpZYAv-soR",
        "outputId": "249113f9-007e-44cf-b43d-ce0dd9770406"
      },
      "execution_count": null,
      "outputs": [
        {
          "output_type": "stream",
          "name": "stdout",
          "text": [
            "*************************************************************************************************\n",
            "https://www.ca.kayak.com/flights/YMQ-OSL/2021-12-24/2021-12-31?sort=bestflight_a\n",
            "<Response [200]>\n",
            "\n",
            "C$ 1,800 \n",
            "\n",
            "C$ 1,775 \n",
            "\n",
            "C$ 1,384 \n",
            "\n",
            "C$ 1,777 \n",
            "\n",
            "C$ 1,869 \n",
            "\n",
            "C$ 1,869 \n",
            "\n",
            "C$ 1,900 \n",
            "\n",
            "C$ 1,902 \n",
            "\n",
            "C$ 1,902 \n",
            "\n",
            "C$ 1,913 \n",
            "\n",
            "C$ 1,877 \n",
            "\n",
            "C$ 1,877 \n",
            "\n",
            "C$ 1,906 \n",
            "\n",
            "C$ 1,916 \n",
            "\n",
            "C$ 1,877 \n",
            "\n",
            "C$ 1,877 \n",
            "\n",
            "C$ 1,877 \n",
            "\n",
            "C$ 1,906 \n",
            "\n",
            "C$ 1,906 \n",
            "\n",
            "C$ 2,397 \n",
            "\n",
            "C$ 2,397 \n",
            "\n",
            "C$ 2,397 \n",
            "\n",
            "C$ 2,397 \n",
            "\n",
            "C$ 2,397 \n",
            "\n",
            "C$ 2,397 \n",
            "\n",
            "C$ 1,928 \n",
            "\n",
            "C$ 2,136 \n",
            "\n",
            "C$ 2,136 \n",
            "\n",
            "C$ 2,149 \n",
            "\n",
            "C$ 1,847 \n",
            "\n",
            "C$ 1,847 \n",
            "\n",
            "C$ 1,877 \n",
            "\n",
            "C$ 1,878 \n",
            "\n",
            "C$ 1,879 \n",
            "\n",
            "C$ 1,879 \n",
            "\n",
            "C$ 1,879 \n",
            "\n",
            "C$ 1,986 \n",
            "\n",
            "C$ 1,986 \n",
            "\n",
            "C$ 1,986 \n",
            "\n",
            "C$ 2,186 \n",
            "\n",
            "C$ 1,854 \n",
            "\n",
            "C$ 1,854 \n",
            "\n",
            "C$ 1,883 \n",
            "\n",
            "C$ 1,893 \n",
            "\n",
            "C$ 1,854 \n",
            "\n",
            "C$ 1,854 \n",
            "\n",
            "C$ 1,854 \n",
            "\n",
            "C$ 1,860 \n",
            "\n",
            "C$ 1,883 \n",
            "\n",
            "C$ 1,883 \n",
            "\n",
            "C$ 1,854 \n",
            "\n",
            "C$ 1,854 \n",
            "\n",
            "C$ 1,883 \n",
            "\n",
            "C$ 1,854 \n",
            "\n",
            "C$ 1,854 \n",
            "\n",
            "C$ 1,854 \n",
            "\n",
            "C$ 1,883 \n",
            "\n",
            "C$ 1,883 \n",
            "\n",
            "C$ 1,862 \n",
            "\n",
            "C$ 1,862 \n",
            "\n",
            "C$ 1,891 \n",
            "\n",
            "C$ 1,891 \n",
            "\n",
            "C$ 1,891 \n",
            "\n",
            "C$ 1,877 \n",
            "\n",
            "C$ 1,877 \n",
            "\n",
            "C$ 1,906 \n",
            "\n",
            "C$ 1,877 \n",
            "\n",
            "C$ 1,877 \n",
            "\n",
            "C$ 1,877 \n",
            "\n",
            "C$ 1,906 \n",
            "\n",
            "C$ 1,906 \n",
            "\n",
            "C$ 2,272 \n",
            "\n",
            "C$ 2,272 \n",
            "\n",
            "C$ 2,272 \n",
            "\n",
            "C$ 2,347 \n",
            "\n",
            "C$ 1,885 \n",
            "\n",
            "C$ 1,885 \n",
            "\n",
            "C$ 1,887 \n",
            "\n",
            "C$ 1,898 \n",
            "*************************************************************************************************\n",
            "https://www.ca.kayak.com/flights/YMQ-OSL/2021-12-24/2022-01-01?sort=bestflight_a\n",
            "<Response [200]>\n"
          ]
        },
        {
          "output_type": "error",
          "ename": "KeyboardInterrupt",
          "evalue": "ignored",
          "traceback": [
            "\u001b[0;31m---------------------------------------------------------------------------\u001b[0m",
            "\u001b[0;31mKeyboardInterrupt\u001b[0m                         Traceback (most recent call last)",
            "\u001b[0;32m<ipython-input-26-8724d436d778>\u001b[0m in \u001b[0;36m<module>\u001b[0;34m()\u001b[0m\n\u001b[1;32m      7\u001b[0m   \u001b[0mpage\u001b[0m\u001b[0;34m=\u001b[0m\u001b[0mrequests\u001b[0m\u001b[0;34m.\u001b[0m\u001b[0mget\u001b[0m\u001b[0;34m(\u001b[0m\u001b[0murl\u001b[0m\u001b[0;34m,\u001b[0m\u001b[0mheaders\u001b[0m\u001b[0;34m=\u001b[0m\u001b[0mheaders\u001b[0m\u001b[0;34m)\u001b[0m\u001b[0;34m\u001b[0m\u001b[0;34m\u001b[0m\u001b[0m\n\u001b[1;32m      8\u001b[0m   \u001b[0mprint\u001b[0m\u001b[0;34m(\u001b[0m\u001b[0mpage\u001b[0m\u001b[0;34m)\u001b[0m\u001b[0;34m\u001b[0m\u001b[0;34m\u001b[0m\u001b[0m\n\u001b[0;32m----> 9\u001b[0;31m   \u001b[0mtime\u001b[0m\u001b[0;34m.\u001b[0m\u001b[0msleep\u001b[0m\u001b[0;34m(\u001b[0m\u001b[0;36m15\u001b[0m\u001b[0;34m)\u001b[0m\u001b[0;34m\u001b[0m\u001b[0;34m\u001b[0m\u001b[0m\n\u001b[0m\u001b[1;32m     10\u001b[0m   \u001b[0msoup\u001b[0m \u001b[0;34m=\u001b[0m \u001b[0mBeautifulSoup\u001b[0m\u001b[0;34m(\u001b[0m\u001b[0mpage\u001b[0m\u001b[0;34m.\u001b[0m\u001b[0mcontent\u001b[0m\u001b[0;34m,\u001b[0m \u001b[0;34m'html.parser'\u001b[0m\u001b[0;34m)\u001b[0m\u001b[0;34m\u001b[0m\u001b[0;34m\u001b[0m\u001b[0m\n\u001b[1;32m     11\u001b[0m   \u001b[0;31m# print(soup.contents)\u001b[0m\u001b[0;34m\u001b[0m\u001b[0;34m\u001b[0m\u001b[0;34m\u001b[0m\u001b[0m\n",
            "\u001b[0;31mKeyboardInterrupt\u001b[0m: "
          ]
        }
      ]
    },
    {
      "cell_type": "code",
      "source": [
        "trial[0].text"
      ],
      "metadata": {
        "colab": {
          "base_uri": "https://localhost:8080/",
          "height": 35
        },
        "id": "xDmseWEJd2rE",
        "outputId": "e89de03b-b2da-4652-c66a-8487976aaa15"
      },
      "execution_count": null,
      "outputs": [
        {
          "output_type": "execute_result",
          "data": {
            "application/vnd.google.colaboratory.intrinsic+json": {
              "type": "string"
            },
            "text/plain": [
              "'\\nC$\\xa01,800 '"
            ]
          },
          "metadata": {},
          "execution_count": 25
        }
      ]
    },
    {
      "cell_type": "code",
      "source": [
        ""
      ],
      "metadata": {
        "id": "z_xkfAaK_Xj3"
      },
      "execution_count": null,
      "outputs": []
    }
  ]
}